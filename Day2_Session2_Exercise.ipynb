{
  "nbformat": 4,
  "nbformat_minor": 0,
  "metadata": {
    "colab": {
      "name": "Untitled29.ipynb",
      "provenance": [],
      "authorship_tag": "ABX9TyNCR2IEhu2InD52a78clZnn",
      "include_colab_link": true
    },
    "kernelspec": {
      "name": "python3",
      "display_name": "Python 3"
    }
  },
  "cells": [
    {
      "cell_type": "markdown",
      "metadata": {
        "id": "view-in-github",
        "colab_type": "text"
      },
      "source": [
        "<a href=\"https://colab.research.google.com/github/shreee18shaila2000/Python-workshop/blob/master/Day2_Session2_Exercise.ipynb\" target=\"_parent\"><img src=\"https://colab.research.google.com/assets/colab-badge.svg\" alt=\"Open In Colab\"/></a>"
      ]
    },
    {
      "cell_type": "code",
      "metadata": {
        "id": "u8x_r4asmsFH",
        "colab_type": "code",
        "colab": {}
      },
      "source": [
        ""
      ],
      "execution_count": null,
      "outputs": []
    },
    {
      "cell_type": "markdown",
      "metadata": {
        "id": "caVIXaj0m170",
        "colab_type": "text"
      },
      "source": [
        ")1. Add rollno and marks {name:mark} for n number of students through keyboard in a dictionary and print the marks in descending order with respective name"
      ]
    },
    {
      "cell_type": "code",
      "metadata": {
        "id": "JQ7H7pUBnHo_",
        "colab_type": "code",
        "colab": {
          "base_uri": "https://localhost:8080/",
          "height": 151
        },
        "outputId": "af6b72bb-b074-4717-d737-1408b1dc6cf6"
      },
      "source": [
        "dict={}\n",
        "n=int(input(\"enter the no of students\"))\n",
        "for i in range(n):\n",
        "  name=input(\"Enter the name\")\n",
        "  marks=int(input(\"Enter the marks\"))\n",
        "  dict[name]=marks\n",
        "print(dict)\n",
        "d1=dict.items()\n",
        "sort=sorted(d1,reverse=True);\n",
        "print(\"The sorted dictionary is\")\n",
        "print(sort)"
      ],
      "execution_count": 1,
      "outputs": [
        {
          "output_type": "stream",
          "text": [
            "enter the no of students2\n",
            "Enter the nameriya\n",
            "Enter the marks56\n",
            "Enter the namesiya\n",
            "Enter the marks58\n",
            "{'riya': 56, 'siya': 58}\n",
            "The sorted dictionary is\n",
            "[('siya', 58), ('riya', 56)]\n"
          ],
          "name": "stdout"
        }
      ]
    }
  ]
}