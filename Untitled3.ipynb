{
  "nbformat": 4,
  "nbformat_minor": 0,
  "metadata": {
    "colab": {
      "name": "Untitled3.ipynb",
      "provenance": [],
      "authorship_tag": "ABX9TyOKHE325HDhXrozrd8e0/01",
      "include_colab_link": true
    },
    "kernelspec": {
      "name": "python3",
      "display_name": "Python 3"
    }
  },
  "cells": [
    {
      "cell_type": "markdown",
      "metadata": {
        "id": "view-in-github",
        "colab_type": "text"
      },
      "source": [
        "<a href=\"https://colab.research.google.com/github/shreee18shaila2000/Python-workshop/blob/master/Untitled3.ipynb\" target=\"_parent\"><img src=\"https://colab.research.google.com/assets/colab-badge.svg\" alt=\"Open In Colab\"/></a>"
      ]
    },
    {
      "cell_type": "code",
      "metadata": {
        "id": "c-4eVc9Wmivp",
        "colab_type": "code",
        "colab": {
          "base_uri": "https://localhost:8080/",
          "height": 34
        },
        "outputId": "32d75c1b-1156-42e3-915f-2a6a59b32c74"
      },
      "source": [
        "def compound_interest(principle, rate, n): \n",
        "\n",
        "  \n",
        "\n",
        "    # Calculates compound interest  \n",
        "\n",
        "    Amount = principle * (pow((1 +(n * rate) / 100), n)) \n",
        "\n",
        "    CI = Amount - principle \n",
        "\n",
        "    print(\"Compound interest is\", CI) \n",
        "\n",
        "  \n",
        "# Driver Code  \n",
        "\n",
        "compound_interest(10000, 10.25, 5)"
      ],
      "execution_count": 1,
      "outputs": [
        {
          "output_type": "stream",
          "text": [
            "Compound interest is 69154.73816223144\n"
          ],
          "name": "stdout"
        }
      ]
    }
  ]
}