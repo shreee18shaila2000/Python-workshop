{
  "nbformat": 4,
  "nbformat_minor": 0,
  "metadata": {
    "colab": {
      "name": "Untitled9.ipynb",
      "provenance": [],
      "authorship_tag": "ABX9TyOw1LVc0clp8Zew00txnzL/",
      "include_colab_link": true
    },
    "kernelspec": {
      "name": "python3",
      "display_name": "Python 3"
    }
  },
  "cells": [
    {
      "cell_type": "markdown",
      "metadata": {
        "id": "view-in-github",
        "colab_type": "text"
      },
      "source": [
        "<a href=\"https://colab.research.google.com/github/shreee18shaila2000/Python-workshop/blob/master/Untitled9.ipynb\" target=\"_parent\"><img src=\"https://colab.research.google.com/assets/colab-badge.svg\" alt=\"Open In Colab\"/></a>"
      ]
    },
    {
      "cell_type": "code",
      "metadata": {
        "id": "HsDpfHfksDQi",
        "colab_type": "code",
        "colab": {
          "base_uri": "https://localhost:8080/",
          "height": 67
        },
        "outputId": "7e58e4b3-e6f2-4e56-c6ec-56171f55823e"
      },
      "source": [
        "#1\n",
        "word_count = 0\n",
        "char_count = 0\n",
        "\n",
        "#2\n",
        "usr_input = input(\"Enter a string : \")\n",
        "\n",
        "#3\n",
        "split_string = usr_input.split()\n",
        "\n",
        "#4\n",
        "word_count = len(split_string)\n",
        "\n",
        "#5\n",
        "for word in split_string:\n",
        "    #6\n",
        "    char_count += len(word)\n",
        "\n",
        "#7\n",
        "print(\"Total words : {}\".format(word_count))\n",
        "print(\"Total characters : {}\".format(char_count))"
      ],
      "execution_count": 1,
      "outputs": [
        {
          "output_type": "stream",
          "text": [
            "Enter a string : Shailashree\n",
            "Total words : 1\n",
            "Total characters : 11\n"
          ],
          "name": "stdout"
        }
      ]
    }
  ]
}