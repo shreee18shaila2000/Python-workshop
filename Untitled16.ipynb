{
  "nbformat": 4,
  "nbformat_minor": 0,
  "metadata": {
    "colab": {
      "name": "Untitled16.ipynb",
      "provenance": [],
      "authorship_tag": "ABX9TyPWtjIUSQ6X8QBGStY1Wrxc",
      "include_colab_link": true
    },
    "kernelspec": {
      "name": "python3",
      "display_name": "Python 3"
    }
  },
  "cells": [
    {
      "cell_type": "markdown",
      "metadata": {
        "id": "view-in-github",
        "colab_type": "text"
      },
      "source": [
        "<a href=\"https://colab.research.google.com/github/shreee18shaila2000/Python-workshop/blob/master/Untitled16.ipynb\" target=\"_parent\"><img src=\"https://colab.research.google.com/assets/colab-badge.svg\" alt=\"Open In Colab\"/></a>"
      ]
    },
    {
      "cell_type": "code",
      "metadata": {
        "id": "hCPejlnHZxsL",
        "colab_type": "code",
        "colab": {}
      },
      "source": [
        ""
      ],
      "execution_count": 6,
      "outputs": []
    },
    {
      "cell_type": "code",
      "metadata": {
        "id": "6T_Syxj3aGsQ",
        "colab_type": "code",
        "colab": {
          "base_uri": "https://localhost:8080/",
          "height": 134
        },
        "outputId": "a3f0063c-2997-47d4-c3ca-e40e3f7e6256"
      },
      "source": [
        "l = []\n",
        "\n",
        "def inp():\n",
        "  name = input('Name : ')\n",
        "  rolno = input(' Rol No : ')\n",
        "  return (name,rolno)  # returns tuples\n",
        "\n",
        "n = int(input('Number of Students : '))\n",
        "for x in range(n):\n",
        "  l.append(inp())\n",
        "\n",
        "print(f'Original : {l}')\n",
        "\n",
        "l.sort(key = lambda x:x[0])\n",
        "print(f'According to Name : Ascending :{l}')\n"
      ],
      "execution_count": 4,
      "outputs": [
        {
          "output_type": "stream",
          "text": [
            "Number of Students : 2\n",
            "Name : shailashree\n",
            " Rol No : 4AL18CS077\n",
            "Name : sujaya\n",
            " Rol No : 4AL18CS090\n",
            "Original : [('shailashree', '4AL18CS077'), ('sujaya', '4AL18CS090')]\n",
            "According to Name : Ascending :[('shailashree', '4AL18CS077'), ('sujaya', '4AL18CS090')]\n"
          ],
          "name": "stdout"
        }
      ]
    },
    {
      "cell_type": "code",
      "metadata": {
        "id": "OF2lmYteaU7v",
        "colab_type": "code",
        "colab": {
          "base_uri": "https://localhost:8080/",
          "height": 168
        },
        "outputId": "8b17b010-0bdd-4caf-f82a-73f9be561a13"
      },
      "source": [
        "l = []\n",
        "\n",
        "def inp():\n",
        "  name = input('Name : ')\n",
        "  rolno = input(' Rol No : ')\n",
        "  return (name,rolno)  # returns tuples\n",
        "\n",
        "n = int(input('Number of Students : '))\n",
        "for x in range(n):\n",
        "  l.append(inp())\n",
        "\n",
        "print(f'Original : {l}')\n",
        "\n",
        "\n",
        "l.sort(key = lambda x:x[0])\n",
        "print(f'According to Name : Descending :{l[::-1]}')"
      ],
      "execution_count": 5,
      "outputs": [
        {
          "output_type": "stream",
          "text": [
            "Number of Students : 3\n",
            "Name : riya\n",
            " Rol No : 22\n",
            "Name : revenna\n",
            " Rol No : 22\n",
            "Name : shree\n",
            " Rol No : 21\n",
            "Original : [('riya', '22'), ('revenna', '22'), ('shree', '21')]\n",
            "According to Name : Descending :[('shree', '21'), ('riya', '22'), ('revenna', '22')]\n"
          ],
          "name": "stdout"
        }
      ]
    },
    {
      "cell_type": "code",
      "metadata": {
        "id": "elbFkiX-adZc",
        "colab_type": "code",
        "colab": {
          "base_uri": "https://localhost:8080/",
          "height": 134
        },
        "outputId": "da94ee2a-65b4-4347-cd05-353149986246"
      },
      "source": [
        "l = []\n",
        "\n",
        "def inp():\n",
        "  name = input('Name : ')\n",
        "  rolno = input(' Rol No : ')\n",
        "  return (name,rolno)  # returns tuples\n",
        "\n",
        "n = int(input('Number of Students : '))\n",
        "for x in range(n):\n",
        "  l.append(inp())\n",
        "\n",
        "print(f'Original : {l}')\n",
        "\n",
        "l.sort(key = lambda x:x[1])\n",
        "print(f'According to Rol No : Descending :{l[::-1]}')"
      ],
      "execution_count": 6,
      "outputs": [
        {
          "output_type": "stream",
          "text": [
            "Number of Students : 2\n",
            "Name : siya\n",
            " Rol No : 1810\n",
            "Name : neha\n",
            " Rol No : 1811\n",
            "Original : [('siya', '1810'), ('neha', '1811')]\n",
            "According to Rol No : Descending :[('neha', '1811'), ('siya', '1810')]\n"
          ],
          "name": "stdout"
        }
      ]
    },
    {
      "cell_type": "code",
      "metadata": {
        "id": "qPgu6iu3aou8",
        "colab_type": "code",
        "colab": {
          "base_uri": "https://localhost:8080/",
          "height": 202
        },
        "outputId": "27e5a71e-bee8-4ea8-fe12-544d67fe2221"
      },
      "source": [
        "l = []\n",
        "\n",
        "def inp():\n",
        "  name = input('Name : ')\n",
        "  rolno = input(' Rol No : ')\n",
        "  return (name,rolno)  # returns tuples\n",
        "\n",
        "n = int(input('Number of Students : '))\n",
        "for x in range(n):\n",
        "  l.append(inp())\n",
        "\n",
        "print(f'Original : {l}')\n",
        "\n",
        "l.sort(key = lambda x:x[1])\n",
        "print(f'According to Rol No : Ascending :{l}')"
      ],
      "execution_count": 7,
      "outputs": [
        {
          "output_type": "stream",
          "text": [
            "Number of Students : 4\n",
            "Name : tara\n",
            " Rol No : 4001\n",
            "Name : maya\n",
            " Rol No : 4008\n",
            "Name : kaya\n",
            " Rol No : 4005\n",
            "Name : chaya\n",
            " Rol No : 4003\n",
            "Original : [('tara', '4001'), ('maya', '4008'), ('kaya', '4005'), ('chaya', '4003')]\n",
            "According to Rol No : Ascending :[('tara', '4001'), ('chaya', '4003'), ('kaya', '4005'), ('maya', '4008')]\n"
          ],
          "name": "stdout"
        }
      ]
    }
  ]
}