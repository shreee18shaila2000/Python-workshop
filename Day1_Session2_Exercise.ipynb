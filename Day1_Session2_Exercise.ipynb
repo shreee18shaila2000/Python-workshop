{
  "nbformat": 4,
  "nbformat_minor": 0,
  "metadata": {
    "colab": {
      "name": "Untitled25.ipynb",
      "provenance": [],
      "authorship_tag": "ABX9TyM3dvG5pb0xmFPbD84X3HDp",
      "include_colab_link": true
    },
    "kernelspec": {
      "name": "python3",
      "display_name": "Python 3"
    }
  },
  "cells": [
    {
      "cell_type": "markdown",
      "metadata": {
        "id": "view-in-github",
        "colab_type": "text"
      },
      "source": [
        "<a href=\"https://colab.research.google.com/github/shreee18shaila2000/Python-workshop/blob/master/Day1_Session2_Exercise.ipynb\" target=\"_parent\"><img src=\"https://colab.research.google.com/assets/colab-badge.svg\" alt=\"Open In Colab\"/></a>"
      ]
    },
    {
      "cell_type": "code",
      "metadata": {
        "id": "3H7zrKKTYhXM",
        "colab_type": "code",
        "colab": {}
      },
      "source": [
        ""
      ],
      "execution_count": null,
      "outputs": []
    },
    {
      "cell_type": "markdown",
      "metadata": {
        "id": "4VJgeW9MYjmj",
        "colab_type": "text"
      },
      "source": [
        "\n",
        "1 Write a program to print the triangle i/p 4\n",
        "\n",
        "1 2 3 3 4 5 4 5 6 7"
      ]
    },
    {
      "cell_type": "code",
      "metadata": {
        "id": "q2fWRhYqYk08",
        "colab_type": "code",
        "colab": {
          "base_uri": "https://localhost:8080/",
          "height": 101
        },
        "outputId": "dcb082e6-e697-4ba5-e219-4d5bb933037f"
      },
      "source": [
        "n=4;\n",
        "for i in range(5):\n",
        "  k=i\n",
        "  for j in range(k):\n",
        "      print (k, end=\" \")\n",
        "      k=k+1\n",
        "  print('')"
      ],
      "execution_count": 1,
      "outputs": [
        {
          "output_type": "stream",
          "text": [
            "\n",
            "1 \n",
            "2 3 \n",
            "3 4 5 \n",
            "4 5 6 7 \n"
          ],
          "name": "stdout"
        }
      ]
    },
    {
      "cell_type": "markdown",
      "metadata": {
        "id": "0q4aL_CmY8nD",
        "colab_type": "text"
      },
      "source": [
        "\n",
        "2)Program to print the pattern *\n",
        "\n",
        "*"
      ]
    },
    {
      "cell_type": "code",
      "metadata": {
        "id": "1km2mu4lZDom",
        "colab_type": "code",
        "colab": {
          "base_uri": "https://localhost:8080/",
          "height": 101
        },
        "outputId": "fb28e9c3-1ec2-4c2f-9ecb-2e838c452226"
      },
      "source": [
        "n=5;\n",
        "for i in range(n):\n",
        "    for j in range(i):\n",
        "        print ('* ', end=\"\")\n",
        "    print('')"
      ],
      "execution_count": 2,
      "outputs": [
        {
          "output_type": "stream",
          "text": [
            "\n",
            "* \n",
            "* * \n",
            "* * * \n",
            "* * * * \n"
          ],
          "name": "stdout"
        }
      ]
    },
    {
      "cell_type": "markdown",
      "metadata": {
        "id": "MI_YU9emZO8w",
        "colab_type": "text"
      },
      "source": [
        "3)Program to print the pattern 5 4 5 3 4 5 2 3 4 5 1 2 3 4 5"
      ]
    },
    {
      "cell_type": "code",
      "metadata": {
        "id": "vjuzaidHZTeY",
        "colab_type": "code",
        "colab": {
          "base_uri": "https://localhost:8080/",
          "height": 101
        },
        "outputId": "ce9f27c0-60b1-4e61-c155-6032f6ab9aa7"
      },
      "source": [
        "n=5;\n",
        "for i in range(n,0,-1):\n",
        "  for j in range(i,n+1):\n",
        "      print (j, end=' ')\n",
        "  print('')"
      ],
      "execution_count": 3,
      "outputs": [
        {
          "output_type": "stream",
          "text": [
            "5 \n",
            "4 5 \n",
            "3 4 5 \n",
            "2 3 4 5 \n",
            "1 2 3 4 5 \n"
          ],
          "name": "stdout"
        }
      ]
    },
    {
      "cell_type": "markdown",
      "metadata": {
        "id": "UCOqDysrZo83",
        "colab_type": "text"
      },
      "source": [
        "4)Program to print the following pattern 5 4 3 2 1 4 3 2 1 3 2 1 2 1 1"
      ]
    },
    {
      "cell_type": "code",
      "metadata": {
        "id": "uSC1qVbwaAYw",
        "colab_type": "code",
        "colab": {
          "base_uri": "https://localhost:8080/",
          "height": 118
        },
        "outputId": "bb611eba-6a22-4e8f-8b56-9443a9344694"
      },
      "source": [
        "n=5\n",
        "for i in range(0,n+1):\n",
        "  for j in range(n-i,0,-1):\n",
        "      print(j,end=\" \")\n",
        "  print()"
      ],
      "execution_count": 4,
      "outputs": [
        {
          "output_type": "stream",
          "text": [
            "5 4 3 2 1 \n",
            "4 3 2 1 \n",
            "3 2 1 \n",
            "2 1 \n",
            "1 \n",
            "\n"
          ],
          "name": "stdout"
        }
      ]
    },
    {
      "cell_type": "code",
      "metadata": {
        "id": "sK6q1pc2aImu",
        "colab_type": "code",
        "colab": {}
      },
      "source": [
        "str = input(\"Enter a string: \")\n",
        "counter = 0\n",
        "for s in str:\n",
        "      counter = counter+1\n",
        "print(\"Length of the input string is:\", counter)"
      ],
      "execution_count": null,
      "outputs": []
    }
  ]
}