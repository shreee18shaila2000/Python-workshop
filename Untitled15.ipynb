{
  "nbformat": 4,
  "nbformat_minor": 0,
  "metadata": {
    "colab": {
      "name": "Untitled15.ipynb",
      "provenance": [],
      "authorship_tag": "ABX9TyNurp3xPH+gN6WxSUkPo5mo",
      "include_colab_link": true
    },
    "kernelspec": {
      "name": "python3",
      "display_name": "Python 3"
    }
  },
  "cells": [
    {
      "cell_type": "markdown",
      "metadata": {
        "id": "view-in-github",
        "colab_type": "text"
      },
      "source": [
        "<a href=\"https://colab.research.google.com/github/shreee18shaila2000/Python-workshop/blob/master/Untitled15.ipynb\" target=\"_parent\"><img src=\"https://colab.research.google.com/assets/colab-badge.svg\" alt=\"Open In Colab\"/></a>"
      ]
    },
    {
      "cell_type": "code",
      "metadata": {
        "id": "WUTThvHZOi2E",
        "colab_type": "code",
        "colab": {
          "base_uri": "https://localhost:8080/",
          "height": 286
        },
        "outputId": "38a74935-9e7f-41bc-d5f4-b4f441b4f98f"
      },
      "source": [
        "a=[]\n",
        "n=int(input(\"Enter number of elements:\"))\n",
        "for i in range(1,n+1):\n",
        "    b=int(input(\"Enter element:\"))\n",
        "    a.append(b)\n",
        "a.sort()\n",
        "print(\"Largest element is:\",a[n-1])\n",
        "x=0\n",
        "print('The greatest no is',max([int(input(x)) for _ in range(int(input(\"Enter no\")))]))\n",
        "\n"
      ],
      "execution_count": 1,
      "outputs": [
        {
          "output_type": "stream",
          "text": [
            "Enter number of elements:2\n",
            "Enter element:10\n",
            "Enter element:0\n",
            "Largest element is: 10\n",
            "Enter no10\n",
            "10\n",
            "0\n",
            "30\n",
            "100\n",
            "45\n",
            "00\n",
            "56230\n",
            "210\n",
            "566\n",
            "63\n",
            "The greatest no is 56230\n"
          ],
          "name": "stdout"
        }
      ]
    }
  ]
}