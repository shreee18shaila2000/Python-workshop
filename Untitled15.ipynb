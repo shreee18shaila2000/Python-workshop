{
  "nbformat": 4,
  "nbformat_minor": 0,
  "metadata": {
    "colab": {
      "name": "Untitled15.ipynb",
      "provenance": [],
      "authorship_tag": "ABX9TyOwrCqN3DX2+i+uq8ePy9hA",
      "include_colab_link": true
    },
    "kernelspec": {
      "name": "python3",
      "display_name": "Python 3"
    }
  },
  "cells": [
    {
      "cell_type": "markdown",
      "metadata": {
        "id": "view-in-github",
        "colab_type": "text"
      },
      "source": [
        "<a href=\"https://colab.research.google.com/github/shreee18shaila2000/Python-workshop/blob/master/Untitled15.ipynb\" target=\"_parent\"><img src=\"https://colab.research.google.com/assets/colab-badge.svg\" alt=\"Open In Colab\"/></a>"
      ]
    },
    {
      "cell_type": "code",
      "metadata": {
        "id": "WUTThvHZOi2E",
        "colab_type": "code",
        "colab": {
          "base_uri": "https://localhost:8080/",
          "height": 286
        },
        "outputId": "38a74935-9e7f-41bc-d5f4-b4f441b4f98f"
      },
      "source": [
        "a=[]\n",
        "n=int(input(\"Enter number of elements:\"))\n",
        "for i in range(1,n+1):\n",
        "    b=int(input(\"Enter element:\"))\n",
        "    a.append(b)\n",
        "a.sort()\n",
        "print(\"Largest element is:\",a[n-1])\n",
        "x=0\n",
        "print('The greatest no is',max([int(input(x)) for _ in range(int(input(\"Enter no\")))]))\n",
        "\n"
      ],
      "execution_count": 1,
      "outputs": [
        {
          "output_type": "stream",
          "text": [
            "Enter number of elements:2\n",
            "Enter element:10\n",
            "Enter element:0\n",
            "Largest element is: 10\n",
            "Enter no10\n",
            "10\n",
            "0\n",
            "30\n",
            "100\n",
            "45\n",
            "00\n",
            "56230\n",
            "210\n",
            "566\n",
            "63\n",
            "The greatest no is 56230\n"
          ],
          "name": "stdout"
        }
      ]
    },
    {
      "cell_type": "code",
      "metadata": {
        "id": "7BQcz6-lPYKv",
        "colab_type": "code",
        "colab": {
          "base_uri": "https://localhost:8080/",
          "height": 202
        },
        "outputId": "8852addb-6b45-4f1e-cfbe-a31dbd8df808"
      },
      "source": [
        "a=[]\n",
        "n=int(input(\"Enter number of elements:\"))\n",
        "for i in range(1,n+1):\n",
        "    b=int(input(\"Enter element:\"))\n",
        "    a.append(b)\n",
        "even=[]\n",
        "odd=[]\n",
        "for j in a:\n",
        "    if(j%2==0):\n",
        "        even.append(j)\n",
        "    else:\n",
        "        odd.append(j)\n",
        "print(\"The even list\",even)\n",
        "print(\"The odd list\",odd)\n",
        "x=0\n",
        "l=[int(input(x)) for _ in range(int(input(\"Enter n\")))]\n",
        "print('even list is',[ i for i in l if i%2])\n",
        "print('odd list is',[i for i in l if not i%2])\n",
        "\n"
      ],
      "execution_count": 2,
      "outputs": [
        {
          "output_type": "stream",
          "text": [
            "Enter number of elements:2\n",
            "Enter element:10\n",
            "Enter element:20\n",
            "The even list [10, 20]\n",
            "The odd list []\n",
            "Enter n3\n",
            "10\n",
            "20\n",
            "30\n",
            "even list is []\n",
            "odd list is [10, 20, 30]\n"
          ],
          "name": "stdout"
        }
      ]
    },
    {
      "cell_type": "code",
      "metadata": {
        "id": "ZjKfhsdgP7cM",
        "colab_type": "code",
        "colab": {}
      },
      "source": [
        ""
      ],
      "execution_count": null,
      "outputs": []
    },
    {
      "cell_type": "code",
      "metadata": {
        "id": "jKmeN3m1P1MP",
        "colab_type": "code",
        "colab": {
          "base_uri": "https://localhost:8080/",
          "height": 218
        },
        "outputId": "e0537a23-ee23-492f-a338-0901c056b6a2"
      },
      "source": [
        "a=[]\n",
        "c=[]\n",
        "n1=int(input(\"Enter number of elements:\"))\n",
        "for i in range(1,n1+1):\n",
        "    b=int(input(\"Enter element:\"))\n",
        "    a.append(b)\n",
        "n2=int(input(\"Enter number of elements:\"))\n",
        "for i in range(1,n2+1):\n",
        "    d=int(input(\"Enter element:\"))\n",
        "    c.append(d)\n",
        "new=a+c\n",
        "new.sort()\n",
        "print(\"Sorted list is:\",new)\n",
        "x=0\n",
        "l=[int(input(x))\n",
        "for _ in range(int(input(\"Enter how many elements\")))]\n",
        "m=[int(input(x))\n",
        "for _ in range(int(input(\"Enter how many elements \")))]\n",
        "new=l+m\n",
        "new.sort()\n",
        "print(\"Sorted list is:\",new)\n"
      ],
      "execution_count": 7,
      "outputs": [
        {
          "output_type": "stream",
          "text": [
            "Enter number of elements:1\n",
            "Enter element:0\n",
            "Enter number of elements:1\n",
            "Enter element:10\n",
            "Sorted list is: [0, 10]\n",
            "Enter how many elements2\n",
            "0\n",
            "0\n",
            "Enter how many elements 2\n",
            "11\n",
            "20\n",
            "Sorted list is: [0, 0, 11, 20]\n"
          ],
          "name": "stdout"
        }
      ]
    },
    {
      "cell_type": "code",
      "metadata": {
        "id": "L-74mEtgSFSc",
        "colab_type": "code",
        "colab": {
          "base_uri": "https://localhost:8080/",
          "height": 50
        },
        "outputId": "550c9e73-169b-4480-c9b8-9ae801b96ace"
      },
      "source": [
        "a=[['A',34],['B',21],['C',26],['E',29]]\n",
        "for i in range(0,len(a)):\n",
        "    for j in range(i+1,len(a)):\n",
        "        if(a[i][1]>a[j][1]):\n",
        "            temp=a[j]\n",
        "            a[j]=a[i]\n",
        "            a[i]=temp\n",
        "print(a)\n",
        "a=[['A',34],['B',21],['C',26],['E',29]]\n",
        "a.sort(key = lambda x: x[1]) \n",
        "print(a)\n"
      ],
      "execution_count": 8,
      "outputs": [
        {
          "output_type": "stream",
          "text": [
            "[['B', 21], ['C', 26], ['E', 29], ['A', 34]]\n",
            "[['B', 21], ['C', 26], ['E', 29], ['A', 34]]\n"
          ],
          "name": "stdout"
        }
      ]
    },
    {
      "cell_type": "code",
      "metadata": {
        "id": "_I3txdzMU1BU",
        "colab_type": "code",
        "colab": {
          "base_uri": "https://localhost:8080/",
          "height": 151
        },
        "outputId": "5a5ea202-6133-4f1c-a736-98f4e1b25b8f"
      },
      "source": [
        "a=[]\n",
        "n=int(input(\"Enter number of elements:\"))\n",
        "for i in range(1,n+1):\n",
        "    b=int(input(\"Enter element:\"))\n",
        "    a.append(b)\n",
        "for i in range(0,len(a)):\n",
        "    for j in range(0,len(a)-i-1):\n",
        "        if(a[j]>a[j+1]):\n",
        "            temp=a[j]\n",
        "            a[j]=a[j+1]\n",
        "            a[j+1]=temp \n",
        "print('Second largest number is:',a[n-2])\n",
        "#Instead of  forementioned 12 lines program, the equivalent 4 lines ! \n",
        "#Pythonic program is here ....\n",
        "\n",
        "x=0\n",
        "l=[int(input(x)) for _ in range(int(input(\"Enter how many elements\")))]\n",
        "l.sort()\n",
        "print(\"Second largest element is :\",l[-2])\n"
      ],
      "execution_count": 10,
      "outputs": [
        {
          "output_type": "stream",
          "text": [
            "Enter number of elements:2\n",
            "Enter element:10\n",
            "Enter element:20\n",
            "Second largest number is: 10\n",
            "Enter how many elements2\n",
            "100\n",
            "200\n",
            "Second largest element is : 100\n"
          ],
          "name": "stdout"
        }
      ]
    },
    {
      "cell_type": "code",
      "metadata": {
        "id": "5kTM5dSGVnEI",
        "colab_type": "code",
        "colab": {
          "base_uri": "https://localhost:8080/",
          "height": 168
        },
        "outputId": "5c4adff5-1a41-44c7-f161-2a615c23feb5"
      },
      "source": [
        "l_range=int(input(\"Enter the lower range:\"))\n",
        "u_range=int(input(\"Enter the upper range:\"))\n",
        "a=[(x,x**2) for x in range(l_range,u_range+1)]\n",
        "print(a)\n",
        "#The aforementioned program is already pythonic. \n",
        "#We can still make it more pythonic as follows \n",
        " \n",
        "a=[(x,x**2) for x in range(int(input(\"Enter the lower range:\")),\\\n",
        "                           int(input(\"Enter the upper range:\"))+1)]\n",
        "print(a)\n",
        "print([(x,x**2) for x in range(int(input(\"Enter the lower range:\")),\\\n",
        "                           int(input(\"Enter the upper range:\"))+1)])\n"
      ],
      "execution_count": 12,
      "outputs": [
        {
          "output_type": "stream",
          "text": [
            "Enter the lower range:2\n",
            "Enter the upper range:3\n",
            "[(2, 4), (3, 9)]\n",
            "Enter the lower range:1\n",
            "Enter the upper range:3\n",
            "[(1, 1), (2, 4), (3, 9)]\n",
            "Enter the lower range:2\n",
            "Enter the upper range:1\n",
            "[]\n"
          ],
          "name": "stdout"
        }
      ]
    },
    {
      "cell_type": "code",
      "metadata": {
        "id": "k7Eca0zcXOzC",
        "colab_type": "code",
        "colab": {
          "base_uri": "https://localhost:8080/",
          "height": 50
        },
        "outputId": "2da0d343-e5d3-47a0-fa82-2cc75f793554"
      },
      "source": [
        "import random\n",
        "a=[]\n",
        "n=int(input(\"Enter number of elements:\"))\n",
        "for j in range(n):\n",
        "    a.append(random.randint(1,20))\n",
        "print('Randomised list is: ',a)\n"
      ],
      "execution_count": 13,
      "outputs": [
        {
          "output_type": "stream",
          "text": [
            "Enter number of elements:2\n",
            "Randomised list is:  [1, 17]\n"
          ],
          "name": "stdout"
        }
      ]
    },
    {
      "cell_type": "code",
      "metadata": {
        "id": "r6Le4fXvYqHj",
        "colab_type": "code",
        "colab": {
          "base_uri": "https://localhost:8080/",
          "height": 1000
        },
        "outputId": "6a19fca7-2cf5-4162-c50d-734c61cbdc3f"
      },
      "source": [
        "[i for i in range(200) if i % 3 == 0 ]"
      ],
      "execution_count": 14,
      "outputs": [
        {
          "output_type": "execute_result",
          "data": {
            "text/plain": [
              "[0,\n",
              " 3,\n",
              " 6,\n",
              " 9,\n",
              " 12,\n",
              " 15,\n",
              " 18,\n",
              " 21,\n",
              " 24,\n",
              " 27,\n",
              " 30,\n",
              " 33,\n",
              " 36,\n",
              " 39,\n",
              " 42,\n",
              " 45,\n",
              " 48,\n",
              " 51,\n",
              " 54,\n",
              " 57,\n",
              " 60,\n",
              " 63,\n",
              " 66,\n",
              " 69,\n",
              " 72,\n",
              " 75,\n",
              " 78,\n",
              " 81,\n",
              " 84,\n",
              " 87,\n",
              " 90,\n",
              " 93,\n",
              " 96,\n",
              " 99,\n",
              " 102,\n",
              " 105,\n",
              " 108,\n",
              " 111,\n",
              " 114,\n",
              " 117,\n",
              " 120,\n",
              " 123,\n",
              " 126,\n",
              " 129,\n",
              " 132,\n",
              " 135,\n",
              " 138,\n",
              " 141,\n",
              " 144,\n",
              " 147,\n",
              " 150,\n",
              " 153,\n",
              " 156,\n",
              " 159,\n",
              " 162,\n",
              " 165,\n",
              " 168,\n",
              " 171,\n",
              " 174,\n",
              " 177,\n",
              " 180,\n",
              " 183,\n",
              " 186,\n",
              " 189,\n",
              " 192,\n",
              " 195,\n",
              " 198]"
            ]
          },
          "metadata": {
            "tags": []
          },
          "execution_count": 14
        }
      ]
    },
    {
      "cell_type": "code",
      "metadata": {
        "id": "gX2CKCBlZHoF",
        "colab_type": "code",
        "colab": {
          "base_uri": "https://localhost:8080/",
          "height": 1000
        },
        "outputId": "4892c648-78dc-4232-e915-4287975415a7"
      },
      "source": [
        "[i for i in range(1000,2000) if i % 5 == 0 or i % 7 == 0 ]\n"
      ],
      "execution_count": 15,
      "outputs": [
        {
          "output_type": "execute_result",
          "data": {
            "text/plain": [
              "[1000,\n",
              " 1001,\n",
              " 1005,\n",
              " 1008,\n",
              " 1010,\n",
              " 1015,\n",
              " 1020,\n",
              " 1022,\n",
              " 1025,\n",
              " 1029,\n",
              " 1030,\n",
              " 1035,\n",
              " 1036,\n",
              " 1040,\n",
              " 1043,\n",
              " 1045,\n",
              " 1050,\n",
              " 1055,\n",
              " 1057,\n",
              " 1060,\n",
              " 1064,\n",
              " 1065,\n",
              " 1070,\n",
              " 1071,\n",
              " 1075,\n",
              " 1078,\n",
              " 1080,\n",
              " 1085,\n",
              " 1090,\n",
              " 1092,\n",
              " 1095,\n",
              " 1099,\n",
              " 1100,\n",
              " 1105,\n",
              " 1106,\n",
              " 1110,\n",
              " 1113,\n",
              " 1115,\n",
              " 1120,\n",
              " 1125,\n",
              " 1127,\n",
              " 1130,\n",
              " 1134,\n",
              " 1135,\n",
              " 1140,\n",
              " 1141,\n",
              " 1145,\n",
              " 1148,\n",
              " 1150,\n",
              " 1155,\n",
              " 1160,\n",
              " 1162,\n",
              " 1165,\n",
              " 1169,\n",
              " 1170,\n",
              " 1175,\n",
              " 1176,\n",
              " 1180,\n",
              " 1183,\n",
              " 1185,\n",
              " 1190,\n",
              " 1195,\n",
              " 1197,\n",
              " 1200,\n",
              " 1204,\n",
              " 1205,\n",
              " 1210,\n",
              " 1211,\n",
              " 1215,\n",
              " 1218,\n",
              " 1220,\n",
              " 1225,\n",
              " 1230,\n",
              " 1232,\n",
              " 1235,\n",
              " 1239,\n",
              " 1240,\n",
              " 1245,\n",
              " 1246,\n",
              " 1250,\n",
              " 1253,\n",
              " 1255,\n",
              " 1260,\n",
              " 1265,\n",
              " 1267,\n",
              " 1270,\n",
              " 1274,\n",
              " 1275,\n",
              " 1280,\n",
              " 1281,\n",
              " 1285,\n",
              " 1288,\n",
              " 1290,\n",
              " 1295,\n",
              " 1300,\n",
              " 1302,\n",
              " 1305,\n",
              " 1309,\n",
              " 1310,\n",
              " 1315,\n",
              " 1316,\n",
              " 1320,\n",
              " 1323,\n",
              " 1325,\n",
              " 1330,\n",
              " 1335,\n",
              " 1337,\n",
              " 1340,\n",
              " 1344,\n",
              " 1345,\n",
              " 1350,\n",
              " 1351,\n",
              " 1355,\n",
              " 1358,\n",
              " 1360,\n",
              " 1365,\n",
              " 1370,\n",
              " 1372,\n",
              " 1375,\n",
              " 1379,\n",
              " 1380,\n",
              " 1385,\n",
              " 1386,\n",
              " 1390,\n",
              " 1393,\n",
              " 1395,\n",
              " 1400,\n",
              " 1405,\n",
              " 1407,\n",
              " 1410,\n",
              " 1414,\n",
              " 1415,\n",
              " 1420,\n",
              " 1421,\n",
              " 1425,\n",
              " 1428,\n",
              " 1430,\n",
              " 1435,\n",
              " 1440,\n",
              " 1442,\n",
              " 1445,\n",
              " 1449,\n",
              " 1450,\n",
              " 1455,\n",
              " 1456,\n",
              " 1460,\n",
              " 1463,\n",
              " 1465,\n",
              " 1470,\n",
              " 1475,\n",
              " 1477,\n",
              " 1480,\n",
              " 1484,\n",
              " 1485,\n",
              " 1490,\n",
              " 1491,\n",
              " 1495,\n",
              " 1498,\n",
              " 1500,\n",
              " 1505,\n",
              " 1510,\n",
              " 1512,\n",
              " 1515,\n",
              " 1519,\n",
              " 1520,\n",
              " 1525,\n",
              " 1526,\n",
              " 1530,\n",
              " 1533,\n",
              " 1535,\n",
              " 1540,\n",
              " 1545,\n",
              " 1547,\n",
              " 1550,\n",
              " 1554,\n",
              " 1555,\n",
              " 1560,\n",
              " 1561,\n",
              " 1565,\n",
              " 1568,\n",
              " 1570,\n",
              " 1575,\n",
              " 1580,\n",
              " 1582,\n",
              " 1585,\n",
              " 1589,\n",
              " 1590,\n",
              " 1595,\n",
              " 1596,\n",
              " 1600,\n",
              " 1603,\n",
              " 1605,\n",
              " 1610,\n",
              " 1615,\n",
              " 1617,\n",
              " 1620,\n",
              " 1624,\n",
              " 1625,\n",
              " 1630,\n",
              " 1631,\n",
              " 1635,\n",
              " 1638,\n",
              " 1640,\n",
              " 1645,\n",
              " 1650,\n",
              " 1652,\n",
              " 1655,\n",
              " 1659,\n",
              " 1660,\n",
              " 1665,\n",
              " 1666,\n",
              " 1670,\n",
              " 1673,\n",
              " 1675,\n",
              " 1680,\n",
              " 1685,\n",
              " 1687,\n",
              " 1690,\n",
              " 1694,\n",
              " 1695,\n",
              " 1700,\n",
              " 1701,\n",
              " 1705,\n",
              " 1708,\n",
              " 1710,\n",
              " 1715,\n",
              " 1720,\n",
              " 1722,\n",
              " 1725,\n",
              " 1729,\n",
              " 1730,\n",
              " 1735,\n",
              " 1736,\n",
              " 1740,\n",
              " 1743,\n",
              " 1745,\n",
              " 1750,\n",
              " 1755,\n",
              " 1757,\n",
              " 1760,\n",
              " 1764,\n",
              " 1765,\n",
              " 1770,\n",
              " 1771,\n",
              " 1775,\n",
              " 1778,\n",
              " 1780,\n",
              " 1785,\n",
              " 1790,\n",
              " 1792,\n",
              " 1795,\n",
              " 1799,\n",
              " 1800,\n",
              " 1805,\n",
              " 1806,\n",
              " 1810,\n",
              " 1813,\n",
              " 1815,\n",
              " 1820,\n",
              " 1825,\n",
              " 1827,\n",
              " 1830,\n",
              " 1834,\n",
              " 1835,\n",
              " 1840,\n",
              " 1841,\n",
              " 1845,\n",
              " 1848,\n",
              " 1850,\n",
              " 1855,\n",
              " 1860,\n",
              " 1862,\n",
              " 1865,\n",
              " 1869,\n",
              " 1870,\n",
              " 1875,\n",
              " 1876,\n",
              " 1880,\n",
              " 1883,\n",
              " 1885,\n",
              " 1890,\n",
              " 1895,\n",
              " 1897,\n",
              " 1900,\n",
              " 1904,\n",
              " 1905,\n",
              " 1910,\n",
              " 1911,\n",
              " 1915,\n",
              " 1918,\n",
              " 1920,\n",
              " 1925,\n",
              " 1930,\n",
              " 1932,\n",
              " 1935,\n",
              " 1939,\n",
              " 1940,\n",
              " 1945,\n",
              " 1946,\n",
              " 1950,\n",
              " 1953,\n",
              " 1955,\n",
              " 1960,\n",
              " 1965,\n",
              " 1967,\n",
              " 1970,\n",
              " 1974,\n",
              " 1975,\n",
              " 1980,\n",
              " 1981,\n",
              " 1985,\n",
              " 1988,\n",
              " 1990,\n",
              " 1995]"
            ]
          },
          "metadata": {
            "tags": []
          },
          "execution_count": 15
        }
      ]
    },
    {
      "cell_type": "code",
      "metadata": {
        "id": "Ye5MXJnvUOx6",
        "colab_type": "code",
        "colab": {}
      },
      "source": [
        ""
      ],
      "execution_count": null,
      "outputs": []
    }
  ]
}