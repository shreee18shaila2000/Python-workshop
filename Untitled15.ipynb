{
  "nbformat": 4,
  "nbformat_minor": 0,
  "metadata": {
    "colab": {
      "name": "Untitled15.ipynb",
      "provenance": [],
      "authorship_tag": "ABX9TyOt82PKQXDxyXaGivb39pNF",
      "include_colab_link": true
    },
    "kernelspec": {
      "name": "python3",
      "display_name": "Python 3"
    }
  },
  "cells": [
    {
      "cell_type": "markdown",
      "metadata": {
        "id": "view-in-github",
        "colab_type": "text"
      },
      "source": [
        "<a href=\"https://colab.research.google.com/github/shreee18shaila2000/Python-workshop/blob/master/Untitled15.ipynb\" target=\"_parent\"><img src=\"https://colab.research.google.com/assets/colab-badge.svg\" alt=\"Open In Colab\"/></a>"
      ]
    },
    {
      "cell_type": "code",
      "metadata": {
        "id": "WUTThvHZOi2E",
        "colab_type": "code",
        "colab": {
          "base_uri": "https://localhost:8080/",
          "height": 286
        },
        "outputId": "38a74935-9e7f-41bc-d5f4-b4f441b4f98f"
      },
      "source": [
        "a=[]\n",
        "n=int(input(\"Enter number of elements:\"))\n",
        "for i in range(1,n+1):\n",
        "    b=int(input(\"Enter element:\"))\n",
        "    a.append(b)\n",
        "a.sort()\n",
        "print(\"Largest element is:\",a[n-1])\n",
        "x=0\n",
        "print('The greatest no is',max([int(input(x)) for _ in range(int(input(\"Enter no\")))]))\n",
        "\n"
      ],
      "execution_count": 1,
      "outputs": [
        {
          "output_type": "stream",
          "text": [
            "Enter number of elements:2\n",
            "Enter element:10\n",
            "Enter element:0\n",
            "Largest element is: 10\n",
            "Enter no10\n",
            "10\n",
            "0\n",
            "30\n",
            "100\n",
            "45\n",
            "00\n",
            "56230\n",
            "210\n",
            "566\n",
            "63\n",
            "The greatest no is 56230\n"
          ],
          "name": "stdout"
        }
      ]
    },
    {
      "cell_type": "code",
      "metadata": {
        "id": "7BQcz6-lPYKv",
        "colab_type": "code",
        "colab": {
          "base_uri": "https://localhost:8080/",
          "height": 202
        },
        "outputId": "8852addb-6b45-4f1e-cfbe-a31dbd8df808"
      },
      "source": [
        "a=[]\n",
        "n=int(input(\"Enter number of elements:\"))\n",
        "for i in range(1,n+1):\n",
        "    b=int(input(\"Enter element:\"))\n",
        "    a.append(b)\n",
        "even=[]\n",
        "odd=[]\n",
        "for j in a:\n",
        "    if(j%2==0):\n",
        "        even.append(j)\n",
        "    else:\n",
        "        odd.append(j)\n",
        "print(\"The even list\",even)\n",
        "print(\"The odd list\",odd)\n",
        "x=0\n",
        "l=[int(input(x)) for _ in range(int(input(\"Enter n\")))]\n",
        "print('even list is',[ i for i in l if i%2])\n",
        "print('odd list is',[i for i in l if not i%2])\n",
        "\n"
      ],
      "execution_count": 2,
      "outputs": [
        {
          "output_type": "stream",
          "text": [
            "Enter number of elements:2\n",
            "Enter element:10\n",
            "Enter element:20\n",
            "The even list [10, 20]\n",
            "The odd list []\n",
            "Enter n3\n",
            "10\n",
            "20\n",
            "30\n",
            "even list is []\n",
            "odd list is [10, 20, 30]\n"
          ],
          "name": "stdout"
        }
      ]
    },
    {
      "cell_type": "code",
      "metadata": {
        "id": "ZjKfhsdgP7cM",
        "colab_type": "code",
        "colab": {}
      },
      "source": [
        ""
      ],
      "execution_count": null,
      "outputs": []
    },
    {
      "cell_type": "code",
      "metadata": {
        "id": "jKmeN3m1P1MP",
        "colab_type": "code",
        "colab": {
          "base_uri": "https://localhost:8080/",
          "height": 218
        },
        "outputId": "e0537a23-ee23-492f-a338-0901c056b6a2"
      },
      "source": [
        "a=[]\n",
        "c=[]\n",
        "n1=int(input(\"Enter number of elements:\"))\n",
        "for i in range(1,n1+1):\n",
        "    b=int(input(\"Enter element:\"))\n",
        "    a.append(b)\n",
        "n2=int(input(\"Enter number of elements:\"))\n",
        "for i in range(1,n2+1):\n",
        "    d=int(input(\"Enter element:\"))\n",
        "    c.append(d)\n",
        "new=a+c\n",
        "new.sort()\n",
        "print(\"Sorted list is:\",new)\n",
        "x=0\n",
        "l=[int(input(x))\n",
        "for _ in range(int(input(\"Enter how many elements\")))]\n",
        "m=[int(input(x))\n",
        "for _ in range(int(input(\"Enter how many elements \")))]\n",
        "new=l+m\n",
        "new.sort()\n",
        "print(\"Sorted list is:\",new)\n"
      ],
      "execution_count": 7,
      "outputs": [
        {
          "output_type": "stream",
          "text": [
            "Enter number of elements:1\n",
            "Enter element:0\n",
            "Enter number of elements:1\n",
            "Enter element:10\n",
            "Sorted list is: [0, 10]\n",
            "Enter how many elements2\n",
            "0\n",
            "0\n",
            "Enter how many elements 2\n",
            "11\n",
            "20\n",
            "Sorted list is: [0, 0, 11, 20]\n"
          ],
          "name": "stdout"
        }
      ]
    },
    {
      "cell_type": "code",
      "metadata": {
        "id": "L-74mEtgSFSc",
        "colab_type": "code",
        "colab": {
          "base_uri": "https://localhost:8080/",
          "height": 50
        },
        "outputId": "550c9e73-169b-4480-c9b8-9ae801b96ace"
      },
      "source": [
        "a=[['A',34],['B',21],['C',26],['E',29]]\n",
        "for i in range(0,len(a)):\n",
        "    for j in range(i+1,len(a)):\n",
        "        if(a[i][1]>a[j][1]):\n",
        "            temp=a[j]\n",
        "            a[j]=a[i]\n",
        "            a[i]=temp\n",
        "print(a)\n",
        "a=[['A',34],['B',21],['C',26],['E',29]]\n",
        "a.sort(key = lambda x: x[1]) \n",
        "print(a)\n"
      ],
      "execution_count": 8,
      "outputs": [
        {
          "output_type": "stream",
          "text": [
            "[['B', 21], ['C', 26], ['E', 29], ['A', 34]]\n",
            "[['B', 21], ['C', 26], ['E', 29], ['A', 34]]\n"
          ],
          "name": "stdout"
        }
      ]
    },
    {
      "cell_type": "code",
      "metadata": {
        "id": "Ye5MXJnvUOx6",
        "colab_type": "code",
        "colab": {}
      },
      "source": [
        ""
      ],
      "execution_count": null,
      "outputs": []
    }
  ]
}