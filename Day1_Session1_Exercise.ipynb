{
  "nbformat": 4,
  "nbformat_minor": 0,
  "metadata": {
    "colab": {
      "name": "Untitled18.ipynb",
      "provenance": [],
      "authorship_tag": "ABX9TyMKv+8ofWRaP/bxC4D5EM5d",
      "include_colab_link": true
    },
    "kernelspec": {
      "name": "python3",
      "display_name": "Python 3"
    }
  },
  "cells": [
    {
      "cell_type": "markdown",
      "metadata": {
        "id": "view-in-github",
        "colab_type": "text"
      },
      "source": [
        "<a href=\"https://colab.research.google.com/github/shreee18shaila2000/Python-workshop/blob/master/Day1_Session1_Exercise.ipynb\" target=\"_parent\"><img src=\"https://colab.research.google.com/assets/colab-badge.svg\" alt=\"Open In Colab\"/></a>"
      ]
    },
    {
      "cell_type": "code",
      "metadata": {
        "id": "94eu00-_cCyW",
        "colab_type": "code",
        "colab": {}
      },
      "source": [
        ""
      ],
      "execution_count": 8,
      "outputs": []
    },
    {
      "cell_type": "markdown",
      "metadata": {
        "id": "oA2QANDId89o",
        "colab_type": "text"
      },
      "source": [
        "\n",
        "Find the compound interest for the given p,n,r (formula : p(1+n*r/100)n )"
      ]
    },
    {
      "cell_type": "code",
      "metadata": {
        "id": "onzpYyibb6v2",
        "colab_type": "code",
        "colab": {
          "base_uri": "https://localhost:8080/",
          "height": 84
        },
        "outputId": "32a24d51-79af-4cca-fc71-69b705d31670"
      },
      "source": [
        "p=float(input(\"Enter the principal amount\"))\n",
        "n=float(input(\"Enter the value of n time period\"))\n",
        "r=float(input(\"Enter the value of r\"))\n",
        "ci=p*(pow((1+r/100),n))\n",
        "print(\"The compound intrest is\",ci)"
      ],
      "execution_count": 5,
      "outputs": [
        {
          "output_type": "stream",
          "text": [
            "Enter the principal amount100\n",
            "Enter the value of n time period2\n",
            "Enter the value of r200\n",
            "The compound intrest is 900.0\n"
          ],
          "name": "stdout"
        }
      ]
    },
    {
      "cell_type": "markdown",
      "metadata": {
        "id": "CbWSDvItdRNu",
        "colab_type": "text"
      },
      "source": [
        "\n",
        "Convert centegrade to farenheit ( f= 9/5*c+32)"
      ]
    },
    {
      "cell_type": "code",
      "metadata": {
        "id": "cm9IBvLqc1Qm",
        "colab_type": "code",
        "colab": {
          "base_uri": "https://localhost:8080/",
          "height": 50
        },
        "outputId": "1965da19-ee4b-48d3-bc4c-5028d44e1657"
      },
      "source": [
        "c=float(input(\"Enter the temperature in centegrade\"))\n",
        "f=((9/5*c)+32)\n",
        "print(\"The fahrenheit value is {0}°F\".format(f))"
      ],
      "execution_count": 6,
      "outputs": [
        {
          "output_type": "stream",
          "text": [
            "Enter the temperature in centegrade33\n",
            "The fahrenheit value is 91.4°F\n"
          ],
          "name": "stdout"
        }
      ]
    },
    {
      "cell_type": "code",
      "metadata": {
        "id": "7k2xJDZxdL_p",
        "colab_type": "code",
        "colab": {}
      },
      "source": [
        ""
      ],
      "execution_count": null,
      "outputs": []
    },
    {
      "cell_type": "markdown",
      "metadata": {
        "id": "Qo54vlPZdU8w",
        "colab_type": "text"
      },
      "source": [
        "Find the greater of two nos"
      ]
    },
    {
      "cell_type": "code",
      "metadata": {
        "id": "FHTWUZoFdcfQ",
        "colab_type": "code",
        "colab": {
          "base_uri": "https://localhost:8080/",
          "height": 67
        },
        "outputId": "cdd8abe2-3df9-4707-b4e0-0ea731c4f899"
      },
      "source": [
        "a=float(input(\"Enter the value of a\"))\n",
        "b=float(input(\"Enter the value of b\"))\n",
        "if(a>b):\n",
        "  print(\"a is greater\")\n",
        "else:\n",
        "  print(\"b is greater\")"
      ],
      "execution_count": 7,
      "outputs": [
        {
          "output_type": "stream",
          "text": [
            "Enter the value of a2\n",
            "Enter the value of b3\n",
            "b is greater\n"
          ],
          "name": "stdout"
        }
      ]
    },
    {
      "cell_type": "markdown",
      "metadata": {
        "id": "viRdwAQ7dlEI",
        "colab_type": "text"
      },
      "source": [
        "Write a program for finding surface areas of cylinder and cone (2PIrrh, 1/3PIrrh) using function"
      ]
    },
    {
      "cell_type": "code",
      "metadata": {
        "id": "azBuYeA1dqOL",
        "colab_type": "code",
        "colab": {
          "base_uri": "https://localhost:8080/",
          "height": 118
        },
        "outputId": "239c4f48-e788-415f-b3a6-e787677d1ec0"
      },
      "source": [
        "r1=float(input(\"Enter the radius of the cylinder\"))\n",
        "h1=float(input(\"Enter the height of the cylinder\"))\n",
        "pi=22/7\n",
        "sa=(2*pi*r1*h1)+(2*pi*r1*r1)\n",
        "print(\"The suraface area of the cylinder is\",sa)\n",
        "r2=float(input(\"Enter the radius of cone\"))\n",
        "h2=float(input(\"Enter the height of cone\"))\n",
        "sa1=(1/3*pi*r2*r2*h2)\n",
        "print(\"The surface area of the cone is\",sa1)"
      ],
      "execution_count": 8,
      "outputs": [
        {
          "output_type": "stream",
          "text": [
            "Enter the radius of the cylinder2\n",
            "Enter the height of the cylinder3\n",
            "The suraface area of the cylinder is 62.85714285714286\n",
            "Enter the radius of cone21\n",
            "Enter the height of cone3\n",
            "The surface area of the cone is 1385.9999999999998\n"
          ],
          "name": "stdout"
        }
      ]
    },
    {
      "cell_type": "markdown",
      "metadata": {
        "id": "xQ832zLkeEv1",
        "colab_type": "text"
      },
      "source": [
        "\n",
        "Find the greatest of four nos ( using ‘and’ operator) using function."
      ]
    },
    {
      "cell_type": "code",
      "metadata": {
        "id": "lz6zBmYreMCW",
        "colab_type": "code",
        "colab": {
          "base_uri": "https://localhost:8080/",
          "height": 101
        },
        "outputId": "e9859cd6-c6cf-480f-917d-9e63cf697cd8"
      },
      "source": [
        "a=int(input(\"Enter the value of a\"))\n",
        "b=int(input(\"Enter the value of b\"))\n",
        "c=int(input(\"Enter the value of c\"))\n",
        "d=int(input(\"Enter the value of d\"))\n",
        "if((a>b) and (a>c) and (a>c)):\n",
        "  print(\"a is greater\")\n",
        "elif((b>a)and (b>c) and (b>d)):\n",
        "  print(\"b is greater\")\n",
        "elif((c>a)and (c>b) and (c>d)):\n",
        "  print(\"c is greater\")\n",
        "else:\n",
        "  print(\"d is greater\")"
      ],
      "execution_count": 10,
      "outputs": [
        {
          "output_type": "stream",
          "text": [
            "Enter the value of a1\n",
            "Enter the value of b2\n",
            "Enter the value of c3\n",
            "Enter the value of d2\n",
            "c is greater\n"
          ],
          "name": "stdout"
        }
      ]
    },
    {
      "cell_type": "markdown",
      "metadata": {
        "id": "QEcWMRRPesVy",
        "colab_type": "text"
      },
      "source": [
        "Write a menu program to perform the operations ( ODDorEven, Factorial, ODDNoUptoN, PrimeUptoN ) using functions for two nos with menu choice"
      ]
    },
    {
      "cell_type": "code",
      "metadata": {
        "id": "pxVV7zYZeyvo",
        "colab_type": "code",
        "colab": {
          "base_uri": "https://localhost:8080/",
          "height": 1000
        },
        "outputId": "7e71578b-e800-4163-8dcc-59665c11add5"
      },
      "source": [
        "loop=1\n",
        "choice=0\n",
        "def OddOrEven(n):\n",
        "  if(n%2==0):\n",
        "      print(\"Even\")\n",
        "  else:\n",
        "      print(\"Odd\")\n",
        "\n",
        "def Factorial(n):\n",
        "  fact=1\n",
        "  while(n>0):\n",
        "    fact=fact*n\n",
        "    n=n-1\n",
        "  print(\"Factorial of the number is: \")\n",
        "  print(fact)\n",
        "\n",
        "def oddno(n):\n",
        "  for i in range(1,n):\n",
        "    if(i%2!=0):\n",
        "      print(i)\n",
        "\n",
        "def prime(n):\n",
        "    for num1 in range(1, n + 1):\n",
        "      if num1 > 1:\n",
        "       for i in range(2, num1):\n",
        "           if (num1 % i) == 0:\n",
        "               break\n",
        "       else:\n",
        "           print(num1)\n",
        "    \n",
        "while loop == 1:\n",
        "    print (\"your options are:\")\n",
        "    print (\" \")\n",
        "    print(\"1) ODD or EVEN\")\n",
        "    print(\"2) Factorial\")\n",
        "    print(\"3) Odd number\")\n",
        "    print(\"4) Prime number\")\n",
        "    print(\" \")\n",
        "    try:\n",
        "        choice = int(input(\"Choose your option: \"))\n",
        "    except:\n",
        "        print(\"please enter a valid number for option\")\n",
        "    print(\" \")\n",
        "    print(\" \")\n",
        "    if choice == 1:\n",
        "        n = int(input(\"Enter the  no: \"))\n",
        "        OddOrEven(n)\n",
        "    elif choice == 2:\n",
        "       n = int(input(\"Enter the  no: \"))\n",
        "       Factorial(n)\n",
        "    elif choice == 3:\n",
        "        n = int(input(\"Enter the  no: \"))\n",
        "        oddno(n)\n",
        "    elif choice == 4:\n",
        "        n = int(input(\"Enter the  no: \"))\n",
        "        prime(n)\n",
        "    else:\n",
        "        print(\"please choice a valid option from 1 to 4\")\n",
        "        choice=0\n"
      ],
      "execution_count": null,
      "outputs": [
        {
          "output_type": "stream",
          "text": [
            "your options are:\n",
            " \n",
            "1) ODD or EVEN\n",
            "2) Factorial\n",
            "3) Odd number\n",
            "4) Prime number\n",
            " \n",
            "Choose your option: 1\n",
            " \n",
            " \n",
            "Enter the  no: 10\n",
            "Even\n",
            "your options are:\n",
            " \n",
            "1) ODD or EVEN\n",
            "2) Factorial\n",
            "3) Odd number\n",
            "4) Prime number\n",
            " \n",
            "Choose your option: 2\n",
            " \n",
            " \n",
            "Enter the  no: 23\n",
            "Factorial of the number is: \n",
            "25852016738884976640000\n",
            "your options are:\n",
            " \n",
            "1) ODD or EVEN\n",
            "2) Factorial\n",
            "3) Odd number\n",
            "4) Prime number\n",
            " \n",
            "Choose your option: \n",
            "please enter a valid number for option\n",
            " \n",
            " \n",
            "Enter the  no: 3\n",
            "Factorial of the number is: \n",
            "6\n",
            "your options are:\n",
            " \n",
            "1) ODD or EVEN\n",
            "2) Factorial\n",
            "3) Odd number\n",
            "4) Prime number\n",
            " \n",
            "Choose your option: 4\n",
            " \n",
            " \n",
            "Enter the  no: 12\n",
            "2\n",
            "3\n",
            "5\n",
            "7\n",
            "11\n",
            "your options are:\n",
            " \n",
            "1) ODD or EVEN\n",
            "2) Factorial\n",
            "3) Odd number\n",
            "4) Prime number\n",
            " \n"
          ],
          "name": "stdout"
        }
      ]
    }
  ]
}